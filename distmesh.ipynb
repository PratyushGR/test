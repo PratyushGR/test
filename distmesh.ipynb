{
  "nbformat": 4,
  "nbformat_minor": 0,
  "metadata": {
    "colab": {
      "provenance": []
    },
    "kernelspec": {
      "name": "python3",
      "display_name": "Python 3"
    },
    "language_info": {
      "name": "python"
    }
  },
  "cells": [
    {
      "cell_type": "code",
      "source": [
        "!git clone https://github.com/PratyushGR/test.git"
      ],
      "metadata": {
        "colab": {
          "base_uri": "https://localhost:8080/"
        },
        "id": "pUq-7vquIl1t",
        "outputId": "5fed9915-a151-473e-ee28-16e8d1600bbc"
      },
      "execution_count": 1,
      "outputs": [
        {
          "output_type": "stream",
          "name": "stdout",
          "text": [
            "Cloning into 'test'...\n",
            "remote: Enumerating objects: 39, done.\u001b[K\n",
            "remote: Counting objects: 100% (39/39), done.\u001b[K\n",
            "remote: Compressing objects: 100% (36/36), done.\u001b[K\n",
            "remote: Total 39 (delta 2), reused 0 (delta 0), pack-reused 0\u001b[K\n",
            "Receiving objects: 100% (39/39), 13.18 KiB | 1.46 MiB/s, done.\n",
            "Resolving deltas: 100% (2/2), done.\n"
          ]
        }
      ]
    },
    {
      "cell_type": "code",
      "source": [
        "import os\n",
        "import sys\n",
        "import json\n",
        "\n",
        "from google.colab.output import eval_js\n",
        "from flask import Flask, render_template, request, redirect, url_for\n",
        "\n",
        "sys.path.append(os.getcwd()+'/test/Dist')\n",
        "from scripts import distreq,meshnet\n",
        "sys.path.append(os.getcwd())\n",
        "\n",
        "print('Open URL: ',eval_js('google.colab.kernel.proxyPort(5000)'))\n",
        "app = Flask(__name__, template_folder=os.getcwd()+'/test/Dist/templates')\n",
        "\n",
        "@app.route('/')\n",
        "def index():\n",
        "    return render_template('index.html')\n",
        "\n",
        "@app.route('/result', methods=['POST'])\n",
        "def result():\n",
        "    json_input = json.loads(request.form['json_input'])\n",
        "    print(json_input.keys())\n",
        "    return json_input\n",
        "\n",
        "if __name__ == '__main__':\n",
        "    app.run()\n"
      ],
      "metadata": {
        "id": "6FGCn9CVttaK"
      },
      "execution_count": null,
      "outputs": []
    },
    {
      "cell_type": "code",
      "source": [
        "model = meshnet.enMesh_checkpoint(1,3, 1,os.getcwd()+'/test/Dist/scripts/modelAE.json')"
      ],
      "metadata": {
        "id": "zbK_SoQVXALJ"
      },
      "execution_count": 3,
      "outputs": []
    }
  ]
}